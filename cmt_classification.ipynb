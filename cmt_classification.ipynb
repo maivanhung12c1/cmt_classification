{
  "cells": [
    {
      "cell_type": "code",
      "execution_count": 1,
      "metadata": {
        "colab": {
          "base_uri": "https://localhost:8080/"
        },
        "id": "74QFEHC61mqg",
        "outputId": "2992f7c2-2a51-4a44-e13f-d942ef2b5ea0"
      },
      "outputs": [
        {
          "output_type": "stream",
          "name": "stdout",
          "text": [
            "Looking in indexes: https://pypi.org/simple, https://us-python.pkg.dev/colab-wheels/public/simple/\n",
            "Collecting underthesea\n",
            "  Downloading underthesea-1.3.4-py3-none-any.whl (7.6 MB)\n",
            "\u001b[K     |████████████████████████████████| 7.6 MB 33.3 MB/s \n",
            "\u001b[?25hRequirement already satisfied: joblib in /usr/local/lib/python3.7/dist-packages (from underthesea) (1.1.0)\n",
            "Requirement already satisfied: Click>=6.0 in /usr/local/lib/python3.7/dist-packages (from underthesea) (7.1.2)\n",
            "Requirement already satisfied: tqdm in /usr/local/lib/python3.7/dist-packages (from underthesea) (4.64.0)\n",
            "Collecting unidecode\n",
            "  Downloading Unidecode-1.3.4-py3-none-any.whl (235 kB)\n",
            "\u001b[K     |████████████████████████████████| 235 kB 72.5 MB/s \n",
            "\u001b[?25hRequirement already satisfied: PyYAML in /usr/local/lib/python3.7/dist-packages (from underthesea) (3.13)\n",
            "Collecting underthesea-core==0.0.4_alpha.10\n",
            "  Downloading underthesea_core-0.0.4_alpha.10-cp37-cp37m-manylinux2010_x86_64.whl (581 kB)\n",
            "\u001b[K     |████████████████████████████████| 581 kB 60.8 MB/s \n",
            "\u001b[?25hRequirement already satisfied: nltk in /usr/local/lib/python3.7/dist-packages (from underthesea) (3.2.5)\n",
            "Requirement already satisfied: requests in /usr/local/lib/python3.7/dist-packages (from underthesea) (2.23.0)\n",
            "Requirement already satisfied: scikit-learn in /usr/local/lib/python3.7/dist-packages (from underthesea) (1.0.2)\n",
            "Collecting python-crfsuite>=0.9.6\n",
            "  Downloading python_crfsuite-0.9.8-cp37-cp37m-manylinux_2_17_x86_64.manylinux2014_x86_64.whl (965 kB)\n",
            "\u001b[K     |████████████████████████████████| 965 kB 54.7 MB/s \n",
            "\u001b[?25hRequirement already satisfied: six in /usr/local/lib/python3.7/dist-packages (from nltk->underthesea) (1.15.0)\n",
            "Requirement already satisfied: idna<3,>=2.5 in /usr/local/lib/python3.7/dist-packages (from requests->underthesea) (2.10)\n",
            "Requirement already satisfied: urllib3!=1.25.0,!=1.25.1,<1.26,>=1.21.1 in /usr/local/lib/python3.7/dist-packages (from requests->underthesea) (1.24.3)\n",
            "Requirement already satisfied: chardet<4,>=3.0.2 in /usr/local/lib/python3.7/dist-packages (from requests->underthesea) (3.0.4)\n",
            "Requirement already satisfied: certifi>=2017.4.17 in /usr/local/lib/python3.7/dist-packages (from requests->underthesea) (2022.5.18.1)\n",
            "Requirement already satisfied: threadpoolctl>=2.0.0 in /usr/local/lib/python3.7/dist-packages (from scikit-learn->underthesea) (3.1.0)\n",
            "Requirement already satisfied: scipy>=1.1.0 in /usr/local/lib/python3.7/dist-packages (from scikit-learn->underthesea) (1.4.1)\n",
            "Requirement already satisfied: numpy>=1.14.6 in /usr/local/lib/python3.7/dist-packages (from scikit-learn->underthesea) (1.21.6)\n",
            "Installing collected packages: unidecode, underthesea-core, python-crfsuite, underthesea\n",
            "Successfully installed python-crfsuite-0.9.8 underthesea-1.3.4 underthesea-core-0.0.4a10 unidecode-1.3.4\n"
          ]
        }
      ],
      "source": [
        "!pip install underthesea\n",
        "import tensorflow as tf\n",
        "from tensorflow import keras\n",
        "from tensorflow.keras.layers import MultiHeadAttention, LayerNormalization, Dropout, Layer\n",
        "from tensorflow.keras.layers import Embedding, Input, GlobalAveragePooling1D, Dense\n",
        "from tensorflow.keras.datasets import imdb\n",
        "from tensorflow.keras.models import Sequential, Model\n",
        "import numpy as np\n",
        "import warnings\n",
        "warnings.filterwarnings(\"ignore\", category=np.VisibleDeprecationWarning)\n",
        "import underthesea\n",
        "import numpy as np\n",
        "import matplotlib.pyplot as plt\n",
        "from underthesea.pipeline import word_tokenize"
      ]
    },
    {
      "cell_type": "code",
      "execution_count": 2,
      "metadata": {
        "colab": {
          "base_uri": "https://localhost:8080/"
        },
        "id": "zHEzcI283c9p",
        "outputId": "3fd38516-96c1-468c-cc37-6c58a2cd2118"
      },
      "outputs": [
        {
          "output_type": "stream",
          "name": "stdout",
          "text": [
            "Mounted at /content/drive\n"
          ]
        }
      ],
      "source": [
        "from google.colab import drive\n",
        "drive.mount('/content/drive')"
      ]
    },
    {
      "cell_type": "code",
      "execution_count": 5,
      "metadata": {
        "colab": {
          "base_uri": "https://localhost:8080/",
          "height": 206
        },
        "id": "PpgUpP4634Q4",
        "outputId": "8b4cc2a3-b2c6-4ffd-d656-62e09571d1ec"
      },
      "outputs": [
        {
          "output_type": "execute_result",
          "data": {
            "text/plain": [
              "   Label                                               Data\n",
              "0      4                                          giá cả rẻ\n",
              "1      3                              mức giá ở đây khá cao\n",
              "2      7  mình thấy nhân viên khá nhiệt tình bạn nào cũn...\n",
              "3      4                                      giá hợp lý\n",
              "4      5  rau và nước chấm các loại đựng riêng trong túi..."
            ],
            "text/html": [
              "\n",
              "  <div id=\"df-3620f2f6-fd36-4029-8b8f-719da88b052b\">\n",
              "    <div class=\"colab-df-container\">\n",
              "      <div>\n",
              "<style scoped>\n",
              "    .dataframe tbody tr th:only-of-type {\n",
              "        vertical-align: middle;\n",
              "    }\n",
              "\n",
              "    .dataframe tbody tr th {\n",
              "        vertical-align: top;\n",
              "    }\n",
              "\n",
              "    .dataframe thead th {\n",
              "        text-align: right;\n",
              "    }\n",
              "</style>\n",
              "<table border=\"1\" class=\"dataframe\">\n",
              "  <thead>\n",
              "    <tr style=\"text-align: right;\">\n",
              "      <th></th>\n",
              "      <th>Label</th>\n",
              "      <th>Data</th>\n",
              "    </tr>\n",
              "  </thead>\n",
              "  <tbody>\n",
              "    <tr>\n",
              "      <th>0</th>\n",
              "      <td>4</td>\n",
              "      <td>giá cả rẻ</td>\n",
              "    </tr>\n",
              "    <tr>\n",
              "      <th>1</th>\n",
              "      <td>3</td>\n",
              "      <td>mức giá ở đây khá cao</td>\n",
              "    </tr>\n",
              "    <tr>\n",
              "      <th>2</th>\n",
              "      <td>7</td>\n",
              "      <td>mình thấy nhân viên khá nhiệt tình bạn nào cũn...</td>\n",
              "    </tr>\n",
              "    <tr>\n",
              "      <th>3</th>\n",
              "      <td>4</td>\n",
              "      <td>giá hợp lý</td>\n",
              "    </tr>\n",
              "    <tr>\n",
              "      <th>4</th>\n",
              "      <td>5</td>\n",
              "      <td>rau và nước chấm các loại đựng riêng trong túi...</td>\n",
              "    </tr>\n",
              "  </tbody>\n",
              "</table>\n",
              "</div>\n",
              "      <button class=\"colab-df-convert\" onclick=\"convertToInteractive('df-3620f2f6-fd36-4029-8b8f-719da88b052b')\"\n",
              "              title=\"Convert this dataframe to an interactive table.\"\n",
              "              style=\"display:none;\">\n",
              "        \n",
              "  <svg xmlns=\"http://www.w3.org/2000/svg\" height=\"24px\"viewBox=\"0 0 24 24\"\n",
              "       width=\"24px\">\n",
              "    <path d=\"M0 0h24v24H0V0z\" fill=\"none\"/>\n",
              "    <path d=\"M18.56 5.44l.94 2.06.94-2.06 2.06-.94-2.06-.94-.94-2.06-.94 2.06-2.06.94zm-11 1L8.5 8.5l.94-2.06 2.06-.94-2.06-.94L8.5 2.5l-.94 2.06-2.06.94zm10 10l.94 2.06.94-2.06 2.06-.94-2.06-.94-.94-2.06-.94 2.06-2.06.94z\"/><path d=\"M17.41 7.96l-1.37-1.37c-.4-.4-.92-.59-1.43-.59-.52 0-1.04.2-1.43.59L10.3 9.45l-7.72 7.72c-.78.78-.78 2.05 0 2.83L4 21.41c.39.39.9.59 1.41.59.51 0 1.02-.2 1.41-.59l7.78-7.78 2.81-2.81c.8-.78.8-2.07 0-2.86zM5.41 20L4 18.59l7.72-7.72 1.47 1.35L5.41 20z\"/>\n",
              "  </svg>\n",
              "      </button>\n",
              "      \n",
              "  <style>\n",
              "    .colab-df-container {\n",
              "      display:flex;\n",
              "      flex-wrap:wrap;\n",
              "      gap: 12px;\n",
              "    }\n",
              "\n",
              "    .colab-df-convert {\n",
              "      background-color: #E8F0FE;\n",
              "      border: none;\n",
              "      border-radius: 50%;\n",
              "      cursor: pointer;\n",
              "      display: none;\n",
              "      fill: #1967D2;\n",
              "      height: 32px;\n",
              "      padding: 0 0 0 0;\n",
              "      width: 32px;\n",
              "    }\n",
              "\n",
              "    .colab-df-convert:hover {\n",
              "      background-color: #E2EBFA;\n",
              "      box-shadow: 0px 1px 2px rgba(60, 64, 67, 0.3), 0px 1px 3px 1px rgba(60, 64, 67, 0.15);\n",
              "      fill: #174EA6;\n",
              "    }\n",
              "\n",
              "    [theme=dark] .colab-df-convert {\n",
              "      background-color: #3B4455;\n",
              "      fill: #D2E3FC;\n",
              "    }\n",
              "\n",
              "    [theme=dark] .colab-df-convert:hover {\n",
              "      background-color: #434B5C;\n",
              "      box-shadow: 0px 1px 3px 1px rgba(0, 0, 0, 0.15);\n",
              "      filter: drop-shadow(0px 1px 2px rgba(0, 0, 0, 0.3));\n",
              "      fill: #FFFFFF;\n",
              "    }\n",
              "  </style>\n",
              "\n",
              "      <script>\n",
              "        const buttonEl =\n",
              "          document.querySelector('#df-3620f2f6-fd36-4029-8b8f-719da88b052b button.colab-df-convert');\n",
              "        buttonEl.style.display =\n",
              "          google.colab.kernel.accessAllowed ? 'block' : 'none';\n",
              "\n",
              "        async function convertToInteractive(key) {\n",
              "          const element = document.querySelector('#df-3620f2f6-fd36-4029-8b8f-719da88b052b');\n",
              "          const dataTable =\n",
              "            await google.colab.kernel.invokeFunction('convertToInteractive',\n",
              "                                                     [key], {});\n",
              "          if (!dataTable) return;\n",
              "\n",
              "          const docLinkHtml = 'Like what you see? Visit the ' +\n",
              "            '<a target=\"_blank\" href=https://colab.research.google.com/notebooks/data_table.ipynb>data table notebook</a>'\n",
              "            + ' to learn more about interactive tables.';\n",
              "          element.innerHTML = '';\n",
              "          dataTable['output_type'] = 'display_data';\n",
              "          await google.colab.output.renderOutput(dataTable, element);\n",
              "          const docLink = document.createElement('div');\n",
              "          docLink.innerHTML = docLinkHtml;\n",
              "          element.appendChild(docLink);\n",
              "        }\n",
              "      </script>\n",
              "    </div>\n",
              "  </div>\n",
              "  "
            ]
          },
          "metadata": {},
          "execution_count": 5
        }
      ],
      "source": [
        "import pandas as pd\n",
        "url = \"/content/drive/MyDrive/2021-2022/NLP/Data/Data_comment3.xlsx\"\n",
        "data = pd.read_excel(url, names=[\"Label\",\"Data\"])\n",
        "data.head()"
      ]
    },
    {
      "cell_type": "code",
      "source": [
        "data['Label'].value_counts().plot.bar()"
      ],
      "metadata": {
        "colab": {
          "base_uri": "https://localhost:8080/",
          "height": 279
        },
        "id": "LN0_GBAOlHsI",
        "outputId": "d71f3071-084e-40c4-9085-81140019281b"
      },
      "execution_count": 6,
      "outputs": [
        {
          "output_type": "execute_result",
          "data": {
            "text/plain": [
              "<matplotlib.axes._subplots.AxesSubplot at 0x7fb9cf7f5cd0>"
            ]
          },
          "metadata": {},
          "execution_count": 6
        },
        {
          "output_type": "display_data",
          "data": {
            "text/plain": [
              "<Figure size 432x288 with 1 Axes>"
            ],
            "image/png": "[encoded data removed]"
          },
          "metadata": {
            "needs_background": "light"
          }
        }
      ]
    },
    {
      "cell_type": "code",
      "source": [
        "len(data['Label'])"
      ],
      "metadata": {
        "colab": {
          "base_uri": "https://localhost:8080/"
        },
        "id": "WoedEbQ3mThK",
        "outputId": "9345b92d-567e-43bd-e553-bc697b984ef2"
      },
      "execution_count": 7,
      "outputs": [
        {
          "output_type": "execute_result",
          "data": {
            "text/plain": [
              "16873"
            ]
          },
          "metadata": {},
          "execution_count": 7
        }
      ]
    },
    {
      "cell_type": "code",
      "execution_count": 8,
      "metadata": {
        "colab": {
          "base_uri": "https://localhost:8080/"
        },
        "id": "lRhBIGdN16tB",
        "outputId": "a2d6275d-5335-490a-ddc4-42a79f95e813"
      },
      "outputs": [
        {
          "output_type": "execute_result",
          "data": {
            "text/plain": [
              "array([[3, 'đồ ăn tráng miệng còn mắc nữa'],\n",
              "       [7,\n",
              "        'nhân viên khá nhanh nhẹn đồ ăn lên nhanh không phải chờ quá lâu'],\n",
              "       [0,\n",
              "        'bánh bao cà chua mình thấy bình thường không hợp khẩu vị mình lắm'],\n",
              "       [2, 'quá tệ'],\n",
              "       [2, 'đồ ăn thất vọng quá']], dtype=object)"
            ]
          },
          "metadata": {},
          "execution_count": 8
        }
      ],
      "source": [
        "dataset = np.array(data)\n",
        "np.random.shuffle(dataset)\n",
        "dataset[:5]"
      ]
    },
    {
      "cell_type": "code",
      "source": [
        "df = pd.DataFrame (dataset)\n",
        "\n",
        "## save to xlsx file\n",
        "\n",
        "filepath = '/content/drive/MyDrive/2021-2022/NLP/Data/Data_comment3.xlsx'\n",
        "\n",
        "df.to_excel(filepath, index=False)"
      ],
      "metadata": {
        "id": "R-Ru61mf_VSy"
      },
      "execution_count": 9,
      "outputs": []
    },
    {
      "cell_type": "code",
      "execution_count": 10,
      "metadata": {
        "id": "ZLFTemG84BbR"
      },
      "outputs": [],
      "source": [
        "labels = list(dataset[:,0])\n",
        "review = list(dataset[:,1])"
      ]
    },
    {
      "cell_type": "code",
      "execution_count": 38,
      "metadata": {
        "id": "qTaWiIfQ4H_a"
      },
      "outputs": [],
      "source": [
        "#đọc file stopword\n",
        "#stopword=pd.read_csv(\"/content/drive/MyDrive/2021-2022/NLP/Data/vietnamese-stopwords-dash.txt\",header=None,names=['Stopwords'])\n",
        "#stopword = list(stopword['Stopwords'])\n",
        "stopword = []"
      ]
    },
    {
      "cell_type": "code",
      "execution_count": 39,
      "metadata": {
        "id": "nog6a8HPrR_n"
      },
      "outputs": [],
      "source": [
        "import string, re\n",
        "def clean_text(text):\n",
        "    text = str(text)\n",
        "    text = text.replace(string.punctuation, \"\")\n",
        "    text = re.sub(r'/\\d+', '', text)\n",
        "    text = text.replace(\".\", \"\")\n",
        "    text = text.lower().split()\n",
        "    text = \" \".join(text)\n",
        "    return text"
      ]
    },
    {
      "cell_type": "code",
      "execution_count": 40,
      "metadata": {
        "id": "GrTNaENN4JN5"
      },
      "outputs": [],
      "source": [
        "def vn_tokenizer(sequence_list) -> list:\n",
        "    toked_sequence = list(map(lambda x: underthesea.word_tokenize(x), sequence_list))\n",
        "    return toked_sequence"
      ]
    },
    {
      "cell_type": "code",
      "execution_count": 41,
      "metadata": {
        "id": "uat7zGtk4Kje"
      },
      "outputs": [],
      "source": [
        "def remove_stopword(sq_list, stopword_list) -> list:\n",
        "    sq_list2 =  []\n",
        "    sq = []\n",
        "    for i in range(len(sq_list)):\n",
        "        for word in sq_list[i]:\n",
        "            if (word not in stopword_list):\n",
        "                sq.append(word)\n",
        "        sq_list2.append(sq)\n",
        "        sq = []\n",
        "    return sq_list2"
      ]
    },
    {
      "cell_type": "code",
      "execution_count": 42,
      "metadata": {
        "id": "refBT40d4MJV"
      },
      "outputs": [],
      "source": [
        "def create_vocabulary(sequence_list) -> dict:\n",
        "    vocabulary = {}\n",
        "    i = 1\n",
        "    for sequence in sequence_list:\n",
        "        for word in sequence:\n",
        "            if word not in vocabulary:\n",
        "                vocabulary[word] = i\n",
        "                i += 1\n",
        "    return vocabulary"
      ]
    },
    {
      "cell_type": "code",
      "execution_count": 43,
      "metadata": {
        "id": "ctcov7IU4N9x"
      },
      "outputs": [],
      "source": [
        "def map_word_to_num(sequence_list, vocabulary) -> list:\n",
        "    mapped_sequence_list = []\n",
        "    for sequence in sequence_list:\n",
        "        text = list(map(lambda x: vocabulary[x], sequence))\n",
        "        mapped_sequence_list.append(text)\n",
        "    return mapped_sequence_list"
      ]
    },
    {
      "cell_type": "code",
      "execution_count": 44,
      "metadata": {
        "id": "ppCJA7hK4PsT"
      },
      "outputs": [],
      "source": [
        "def find_max_length(sequence_list) -> int:\n",
        "    len_list = []\n",
        "    for sequence in sequence_list:\n",
        "        len_list.append(len(sequence))\n",
        "    max_length = np.max(len_list)\n",
        "    return max_length"
      ]
    },
    {
      "cell_type": "code",
      "execution_count": 45,
      "metadata": {
        "id": "CWD2S-2N4RbW"
      },
      "outputs": [],
      "source": [
        "def sequence_padding(sequence_list, max_length, padded_value) -> list:\n",
        "    for sequence in sequence_list:\n",
        "        while len(sequence) < max_length:\n",
        "            sequence.append(padded_value)\n",
        "    return sequence_list"
      ]
    },
    {
      "cell_type": "code",
      "execution_count": null,
      "metadata": {
        "id": "2HCEqYe-4TGM"
      },
      "outputs": [],
      "source": [
        "review = list(map(lambda x: str(clean_text(x)), review))\n",
        "toked_sequence = vn_tokenizer(review)\n",
        "sequence_without_sw = remove_stopword(toked_sequence, stopword)\n",
        "vocab = create_vocabulary(sequence_without_sw)\n",
        "num_sequence = map_word_to_num(sequence_without_sw, vocab)\n",
        "sequence_without_sw"
      ]
    },
    {
      "cell_type": "code",
      "source": [
        "max_length = find_max_length(num_sequence)\n",
        "padded_sequence = sequence_padding(num_sequence, max_length, 0)"
      ],
      "metadata": {
        "id": "Y53iQ114nWk5"
      },
      "execution_count": 47,
      "outputs": []
    },
    {
      "cell_type": "code",
      "execution_count": null,
      "metadata": {
        "id": "Td8kA-W5uA9G"
      },
      "outputs": [],
      "source": [
        "vocab"
      ]
    },
    {
      "cell_type": "code",
      "execution_count": 49,
      "metadata": {
        "id": "Cx9OGayz4UuG"
      },
      "outputs": [],
      "source": [
        "from sklearn.model_selection import train_test_split\n",
        "x_train, x_test, y_train, y_test = train_test_split(padded_sequence, labels, test_size=0.3)"
      ]
    },
    {
      "cell_type": "code",
      "execution_count": 50,
      "metadata": {
        "id": "HA4so6jr4aHm"
      },
      "outputs": [],
      "source": [
        "train_size = int(len(x_train)*0.8)\n",
        "x_train = np.array(x_train).astype('float32')\n",
        "y_train = np.array(y_train).astype('float32')\n",
        "x_test = np.array(x_test).astype('float32')\n",
        "y_test = np.array(y_test).astype('float32')"
      ]
    },
    {
      "cell_type": "code",
      "execution_count": 51,
      "metadata": {
        "id": "ulOLBk_o4byD"
      },
      "outputs": [],
      "source": [
        "y_train = tf.one_hot(y_train, 9)\n",
        "y_test = tf.one_hot(y_test, 9)"
      ]
    },
    {
      "cell_type": "code",
      "execution_count": 52,
      "metadata": {
        "id": "i6DMFxBN4m5C",
        "colab": {
          "base_uri": "https://localhost:8080/"
        },
        "outputId": "9b7e91d8-bb09-467e-d4c9-44b10efd564b"
      },
      "outputs": [
        {
          "output_type": "stream",
          "name": "stdout",
          "text": [
            "120\n"
          ]
        }
      ],
      "source": [
        "vocab_size = len(vocab)  \n",
        "print(max_length)"
      ]
    },
    {
      "cell_type": "code",
      "execution_count": 3,
      "metadata": {
        "id": "3jaT1HEO1yMF"
      },
      "outputs": [],
      "source": [
        "class TransformerBlock(Layer):\n",
        "    def __init__(self, embed_dim, num_heads, ff_dim, rate=0.1):\n",
        "        super(TransformerBlock, self).__init__()\n",
        "        self.att = MultiHeadAttention(num_heads=num_heads, key_dim=embed_dim)\n",
        "        self.ffn = Sequential(\n",
        "            [Dense(ff_dim, activation=\"relu\"), \n",
        "             Dense(embed_dim),]\n",
        "        )\n",
        "        self.layernorm1 = LayerNormalization(epsilon=1e-6)\n",
        "        self.layernorm2 = LayerNormalization(epsilon=1e-6)\n",
        "        self.dropout1 = Dropout(rate)\n",
        "        self.dropout2 = Dropout(rate)\n",
        "\n",
        "    def call(self, inputs, training):\n",
        "        attn_output = self.att(inputs, inputs)\n",
        "        attn_output = self.dropout1(attn_output, training=training)\n",
        "        out1 = self.layernorm1(inputs + attn_output)\n",
        "        ffn_output = self.ffn(out1)\n",
        "        ffn_output = self.dropout2(ffn_output, training=training)\n",
        "        return self.layernorm2(out1 + ffn_output)"
      ]
    },
    {
      "cell_type": "code",
      "execution_count": 4,
      "metadata": {
        "id": "Jsh_-vfH11fb"
      },
      "outputs": [],
      "source": [
        "class TokenAndPositionEmbedding(Layer):\n",
        "    def __init__(self, maxlen, vocab_size, embed_dim):\n",
        "        super(TokenAndPositionEmbedding, self).__init__()\n",
        "        self.token_emb = Embedding(input_dim=vocab_size, output_dim=embed_dim)\n",
        "        self.pos_emb = Embedding(input_dim=maxlen, output_dim=embed_dim)\n",
        "\n",
        "    def call(self, x):\n",
        "        maxlen = tf.shape(x)[-1]\n",
        "        positions = tf.range(start=0, limit=maxlen, delta=1)\n",
        "        positions = self.pos_emb(positions)\n",
        "        x = self.token_emb(x)\n",
        "        return x + positions"
      ]
    },
    {
      "cell_type": "code",
      "execution_count": 53,
      "metadata": {
        "id": "fEgEY4EC4vNi"
      },
      "outputs": [],
      "source": [
        "embed_dim = 64  # Embedding size for each token\n",
        "num_heads = 2  # Number of attention heads\n",
        "ff_dim = 64  # Hidden layer size in feed forward network inside transformer\n",
        "\n",
        "inputs = Input(shape=(max_length,))\n",
        "embedding_layer = TokenAndPositionEmbedding(max_length, vocab_size, embed_dim)\n",
        "x = embedding_layer(inputs)\n",
        "transformer_block = TransformerBlock(embed_dim, num_heads, ff_dim)\n",
        "x = transformer_block(x)\n",
        "x = GlobalAveragePooling1D()(x)\n",
        "x = Dropout(0.2)(x)\n",
        "x = Dense(128, activation=\"relu\")(x)\n",
        "x = Dropout(0.2)(x)\n",
        "x = Dense(64, activation=\"relu\")(x)\n",
        "outputs = Dense(9, activation=\"softmax\")(x)\n",
        "\n",
        "model = Model(inputs=inputs, outputs=outputs)"
      ]
    },
    {
      "cell_type": "code",
      "execution_count": 54,
      "metadata": {
        "colab": {
          "base_uri": "https://localhost:8080/"
        },
        "id": "7HhFe7sP47Vy",
        "outputId": "cf044a07-d609-4683-dcc0-984858aa6ee8"
      },
      "outputs": [
        {
          "output_type": "stream",
          "name": "stdout",
          "text": [
            "Epoch 1/30\n",
            "296/296 [==============================] - 4s 9ms/step - loss: 1.9993 - accuracy: 0.2594 - val_loss: 1.9508 - val_accuracy: 0.2835\n",
            "Epoch 2/30\n",
            "296/296 [==============================] - 3s 11ms/step - loss: 1.7570 - accuracy: 0.3635 - val_loss: 1.5490 - val_accuracy: 0.4435\n",
            "Epoch 3/30\n",
            "296/296 [==============================] - 2s 8ms/step - loss: 1.3461 - accuracy: 0.5150 - val_loss: 1.1404 - val_accuracy: 0.5810\n",
            "Epoch 4/30\n",
            "296/296 [==============================] - 2s 8ms/step - loss: 1.0093 - accuracy: 0.6286 - val_loss: 0.8950 - val_accuracy: 0.6809\n",
            "Epoch 5/30\n",
            "296/296 [==============================] - 2s 8ms/step - loss: 0.7782 - accuracy: 0.7391 - val_loss: 0.7255 - val_accuracy: 0.7579\n",
            "Epoch 6/30\n",
            "296/296 [==============================] - 2s 7ms/step - loss: 0.6646 - accuracy: 0.7756 - val_loss: 0.6345 - val_accuracy: 0.7880\n",
            "Epoch 7/30\n",
            "296/296 [==============================] - 2s 8ms/step - loss: 0.5699 - accuracy: 0.8084 - val_loss: 0.5841 - val_accuracy: 0.8091\n",
            "Epoch 8/30\n",
            "296/296 [==============================] - 2s 8ms/step - loss: 0.5106 - accuracy: 0.8290 - val_loss: 0.5646 - val_accuracy: 0.8201\n",
            "Epoch 9/30\n",
            "296/296 [==============================] - 2s 8ms/step - loss: 0.4729 - accuracy: 0.8414 - val_loss: 0.5372 - val_accuracy: 0.8206\n",
            "Epoch 10/30\n",
            "296/296 [==============================] - 2s 8ms/step - loss: 0.4436 - accuracy: 0.8453 - val_loss: 0.5437 - val_accuracy: 0.8210\n",
            "Epoch 11/30\n",
            "296/296 [==============================] - 2s 8ms/step - loss: 0.4118 - accuracy: 0.8575 - val_loss: 0.5169 - val_accuracy: 0.8375\n",
            "Epoch 12/30\n",
            "296/296 [==============================] - 2s 8ms/step - loss: 0.3863 - accuracy: 0.8696 - val_loss: 0.5173 - val_accuracy: 0.8388\n",
            "Epoch 13/30\n",
            "296/296 [==============================] - 2s 7ms/step - loss: 0.3676 - accuracy: 0.8739 - val_loss: 0.4962 - val_accuracy: 0.8485\n",
            "Epoch 14/30\n",
            "296/296 [==============================] - 2s 8ms/step - loss: 0.3411 - accuracy: 0.8835 - val_loss: 0.5010 - val_accuracy: 0.8447\n",
            "Epoch 15/30\n",
            "296/296 [==============================] - 2s 8ms/step - loss: 0.3305 - accuracy: 0.8891 - val_loss: 0.5068 - val_accuracy: 0.8481\n",
            "Epoch 16/30\n",
            "296/296 [==============================] - 2s 8ms/step - loss: 0.3122 - accuracy: 0.8943 - val_loss: 0.5236 - val_accuracy: 0.8447\n",
            "Epoch 17/30\n",
            "296/296 [==============================] - 2s 8ms/step - loss: 0.3030 - accuracy: 0.8962 - val_loss: 0.5095 - val_accuracy: 0.8515\n",
            "Epoch 18/30\n",
            "296/296 [==============================] - 2s 8ms/step - loss: 0.2870 - accuracy: 0.9008 - val_loss: 0.5374 - val_accuracy: 0.8502\n",
            "Epoch 19/30\n",
            "296/296 [==============================] - 2s 7ms/step - loss: 0.2768 - accuracy: 0.9070 - val_loss: 0.5529 - val_accuracy: 0.8515\n",
            "Epoch 20/30\n",
            "296/296 [==============================] - 2s 8ms/step - loss: 0.2644 - accuracy: 0.9117 - val_loss: 0.5526 - val_accuracy: 0.8472\n",
            "Epoch 21/30\n",
            "296/296 [==============================] - 2s 8ms/step - loss: 0.2552 - accuracy: 0.9119 - val_loss: 0.5609 - val_accuracy: 0.8523\n",
            "Epoch 22/30\n",
            "296/296 [==============================] - 2s 8ms/step - loss: 0.2466 - accuracy: 0.9198 - val_loss: 0.5685 - val_accuracy: 0.8485\n",
            "Epoch 23/30\n",
            "296/296 [==============================] - 2s 7ms/step - loss: 0.2394 - accuracy: 0.9174 - val_loss: 0.6059 - val_accuracy: 0.8464\n",
            "Epoch 24/30\n",
            "296/296 [==============================] - 2s 8ms/step - loss: 0.2347 - accuracy: 0.9198 - val_loss: 0.6081 - val_accuracy: 0.8468\n",
            "Epoch 25/30\n",
            "296/296 [==============================] - 2s 8ms/step - loss: 0.2246 - accuracy: 0.9253 - val_loss: 0.5925 - val_accuracy: 0.8426\n",
            "Epoch 26/30\n",
            "296/296 [==============================] - 2s 8ms/step - loss: 0.2185 - accuracy: 0.9263 - val_loss: 0.5939 - val_accuracy: 0.8540\n",
            "Epoch 27/30\n",
            "296/296 [==============================] - 2s 8ms/step - loss: 0.2168 - accuracy: 0.9259 - val_loss: 0.6049 - val_accuracy: 0.8464\n",
            "Epoch 28/30\n",
            "296/296 [==============================] - 2s 8ms/step - loss: 0.2026 - accuracy: 0.9315 - val_loss: 0.5938 - val_accuracy: 0.8506\n",
            "Epoch 29/30\n",
            "296/296 [==============================] - 2s 8ms/step - loss: 0.2007 - accuracy: 0.9289 - val_loss: 0.6218 - val_accuracy: 0.8485\n",
            "Epoch 30/30\n",
            "296/296 [==============================] - 2s 8ms/step - loss: 0.1901 - accuracy: 0.9340 - val_loss: 0.6571 - val_accuracy: 0.8438\n"
          ]
        }
      ],
      "source": [
        "model.compile(optimizer=\"adamax\", loss=\"categorical_crossentropy\", metrics=[\"accuracy\"])\n",
        "\n",
        "train_history = model.fit(x_train, y_train , validation_split=0.2 , batch_size=32 , epochs=30)"
      ]
    },
    {
      "cell_type": "code",
      "execution_count": 30,
      "metadata": {
        "id": "PXEaPjzoFHfo"
      },
      "outputs": [],
      "source": [
        "def show_plot(train_history):\n",
        "  plt.plot(train_history.history['accuracy'])\n",
        "  plt.plot(train_history.history['val_accuracy'])\n",
        "  plt.title('model accuracy')\n",
        "  plt.ylabel('accuracy')\n",
        "  plt.xlabel('epoch')\n",
        "  plt.legend(['train', 'val'], loc='upper left')\n",
        "  plt.show()\n",
        "  plt.plot(train_history.history['loss'])\n",
        "  plt.plot(train_history.history['val_loss'])\n",
        "  plt.title('model loss')\n",
        "  plt.ylabel('loss')\n",
        "  plt.xlabel('epoch')\n",
        "  plt.legend(['train', 'val'], loc='upper left')\n",
        "  plt.show()"
      ]
    },
    {
      "cell_type": "code",
      "execution_count": 55,
      "metadata": {
        "colab": {
          "base_uri": "https://localhost:8080/",
          "height": 573
        },
        "id": "paaPKgisFIvI",
        "outputId": "1dc68532-d632-4d32-bfa3-ae334dbb5630"
      },
      "outputs": [
        {
          "output_type": "display_data",
          "data": {
            "text/plain": [
              "<Figure size 432x288 with 1 Axes>"
            ],
            "image/png": "[encoded data removed]"
          },
          "metadata": {
            "needs_background": "light"
          }
        },
        {
          "output_type": "display_data",
          "data": {
            "text/plain": [
              "<Figure size 432x288 with 1 Axes>"
            ],
            "image/png": "[encoded data removed]"
          },
          "metadata": {
            "needs_background": "light"
          }
        }
      ],
      "source": [
        "show_plot(train_history)"
      ]
    },
    {
      "cell_type": "code",
      "execution_count": 56,
      "metadata": {
        "colab": {
          "base_uri": "https://localhost:8080/"
        },
        "id": "WuaAm3OcFLQx",
        "outputId": "475960c5-1ce9-43ce-8ffc-8938a39094a3"
      },
      "outputs": [
        {
          "output_type": "stream",
          "name": "stdout",
          "text": [
            "Evaluate on test data\n",
            "40/40 [==============================] - 0s 7ms/step - loss: 0.6885 - accuracy: 0.8422\n",
            "test loss, test acc: [0.6884962320327759, 0.842157244682312]\n",
            "Generate predictions for 3 samples\n",
            "predictions shape: (3, 9)\n"
          ]
        }
      ],
      "source": [
        "# Evaluate the model on the test data using `evaluate`\n",
        "print(\"Evaluate on test data\")\n",
        "results = model.evaluate(x_test, y_test, batch_size=128)\n",
        "print(\"test loss, test acc:\", results)\n",
        "\n",
        "# Generate predictions (probabilities -- the output of the last layer)\n",
        "# on new data using `predict`\n",
        "print(\"Generate predictions for 3 samples\")\n",
        "predictions = model.predict(x_test[:3])\n",
        "print(\"predictions shape:\", predictions.shape)"
      ]
    },
    {
      "cell_type": "code",
      "execution_count": 57,
      "metadata": {
        "id": "fPhP6RScFcIQ"
      },
      "outputs": [],
      "source": [
        "label_names = ['tào lao', 'ngon', 'dở', 'giá cao', 'giá hợp lý', \n",
        "               'vệ sinh sạch sẽ, thực phẩm an toàn', 'vệ sinh bẩn, không đảm bảo', \n",
        "               'thái độ phục vụ tốt', 'thái độ phục vụ tệ']"
      ]
    },
    {
      "cell_type": "code",
      "execution_count": 58,
      "metadata": {
        "id": "XZAy2jbyFe6j"
      },
      "outputs": [],
      "source": [
        "def classify(text):\n",
        "    toked_sequence = vn_tokenizer(text)\n",
        "    sequence_without_sw = remove_stopword(toked_sequence, stopword)\n",
        "    num_sequence = map_word_to_num(sequence_without_sw, vocab)\n",
        "    padded_sequence = sequence_padding(num_sequence, max_length, 0)\n",
        "    padded_sequence = np.array(padded_sequence).astype(\"float32\")\n",
        "    pred = model.predict(padded_sequence)\n",
        "    classes = [label_names[i] for i in list(pred.argmax(axis=1))]\n",
        "    return classes"
      ]
    },
    {
      "cell_type": "code",
      "execution_count": 59,
      "metadata": {
        "colab": {
          "base_uri": "https://localhost:8080/"
        },
        "id": "Tt4ajMHqFlyA",
        "outputId": "47df31e9-179a-4682-d2f2-9f2800b3d13b"
      },
      "outputs": [
        {
          "output_type": "execute_result",
          "data": {
            "text/plain": [
              "['dở', 'ngon']"
            ]
          },
          "metadata": {},
          "execution_count": 59
        }
      ],
      "source": [
        "import string\n",
        "import re\n",
        "text = [\"dở lắm mọi người ơi\", \"đồ ăn ngon lắm luôn\"]\n",
        "pred = classify(text)\n",
        "pred"
      ]
    },
    {
      "cell_type": "code",
      "source": [
        "model.save(\"/content/drive/MyDrive/2021-2022/NLP/Model/transformers3\")"
      ],
      "metadata": {
        "colab": {
          "base_uri": "https://localhost:8080/"
        },
        "id": "2mUhG-pFzlhN",
        "outputId": "f53516d6-5235-4439-abed-35dc2673595a"
      },
      "execution_count": null,
      "outputs": [
        {
          "output_type": "stream",
          "name": "stderr",
          "text": [
            "WARNING:absl:Found untraced functions such as embedding_27_layer_call_fn, embedding_27_layer_call_and_return_conditional_losses, embedding_28_layer_call_fn, embedding_28_layer_call_and_return_conditional_losses, multi_head_attention_13_layer_call_fn while saving (showing 5 of 26). These functions will not be directly callable after loading.\n"
          ]
        },
        {
          "output_type": "stream",
          "name": "stdout",
          "text": [
            "INFO:tensorflow:Assets written to: /content/drive/MyDrive/2021-2022/NLP/Model/transformers3/assets\n"
          ]
        },
        {
          "output_type": "stream",
          "name": "stderr",
          "text": [
            "INFO:tensorflow:Assets written to: /content/drive/MyDrive/2021-2022/NLP/Model/transformers3/assets\n"
          ]
        }
      ]
    },
    {
      "cell_type": "code",
      "execution_count": 69,
      "metadata": {
        "id": "AY9rQeDTFvn9"
      },
      "outputs": [],
      "source": [
        "embed_dim = 128  # Embedding size for each token\n",
        "num_heads = 4  # Number of attention heads\n",
        "ff_dim = 128  # Hidden layer size in feed forward network inside transformer\n",
        "\n",
        "inputs = Input(shape=(max_length,))\n",
        "embedding_layer = TokenAndPositionEmbedding(max_length, vocab_size, embed_dim)\n",
        "x = embedding_layer(inputs)\n",
        "transformer_block = TransformerBlock(embed_dim, num_heads, ff_dim)\n",
        "x = transformer_block(x)\n",
        "x = GlobalAveragePooling1D()(x)\n",
        "x = Dropout(0.1)(x)\n",
        "x = Dense(128, activation=\"relu\")(x)\n",
        "x = Dropout(0.1)(x)\n",
        "x = Dense(64, activation=\"relu\")(x)\n",
        "outputs = Dense(9, activation=\"softmax\")(x)\n",
        "\n",
        "model2 = Model(inputs=inputs, outputs=outputs)"
      ]
    },
    {
      "cell_type": "code",
      "source": [
        "model2.compile(optimizer=\"adamax\", loss=\"categorical_crossentropy\", metrics=[\"accuracy\"])\n",
        "\n",
        "train_history2 = model2.fit(x_train, y_train , validation_split=0.2 , batch_size=32 , epochs=30)"
      ],
      "metadata": {
        "colab": {
          "base_uri": "https://localhost:8080/"
        },
        "id": "F8ik9eeDqK24",
        "outputId": "9ca1ce10-7326-40dd-9eac-9820b2d45839"
      },
      "execution_count": 70,
      "outputs": [
        {
          "output_type": "stream",
          "name": "stdout",
          "text": [
            "Epoch 1/30\n",
            "296/296 [==============================] - 5s 13ms/step - loss: 1.9917 - accuracy: 0.2661 - val_loss: 1.9416 - val_accuracy: 0.2835\n",
            "Epoch 2/30\n",
            "296/296 [==============================] - 3s 12ms/step - loss: 1.5316 - accuracy: 0.4555 - val_loss: 1.1082 - val_accuracy: 0.5942\n",
            "Epoch 3/30\n",
            "296/296 [==============================] - 3s 12ms/step - loss: 0.8414 - accuracy: 0.7188 - val_loss: 0.7319 - val_accuracy: 0.7643\n",
            "Epoch 4/30\n",
            "296/296 [==============================] - 3s 12ms/step - loss: 0.6459 - accuracy: 0.7836 - val_loss: 0.6090 - val_accuracy: 0.7990\n",
            "Epoch 5/30\n",
            "296/296 [==============================] - 3s 12ms/step - loss: 0.5346 - accuracy: 0.8185 - val_loss: 0.5482 - val_accuracy: 0.8172\n",
            "Epoch 6/30\n",
            "296/296 [==============================] - 3s 12ms/step - loss: 0.4726 - accuracy: 0.8403 - val_loss: 0.5339 - val_accuracy: 0.8240\n",
            "Epoch 7/30\n",
            "296/296 [==============================] - 3s 12ms/step - loss: 0.4300 - accuracy: 0.8537 - val_loss: 0.5357 - val_accuracy: 0.8290\n",
            "Epoch 8/30\n",
            "296/296 [==============================] - 3s 12ms/step - loss: 0.3993 - accuracy: 0.8611 - val_loss: 0.5110 - val_accuracy: 0.8350\n",
            "Epoch 9/30\n",
            "296/296 [==============================] - 4s 12ms/step - loss: 0.3617 - accuracy: 0.8760 - val_loss: 0.5252 - val_accuracy: 0.8388\n",
            "Epoch 10/30\n",
            "296/296 [==============================] - 4s 12ms/step - loss: 0.3406 - accuracy: 0.8837 - val_loss: 0.5065 - val_accuracy: 0.8409\n",
            "Epoch 11/30\n",
            "296/296 [==============================] - 4s 12ms/step - loss: 0.3162 - accuracy: 0.8882 - val_loss: 0.5318 - val_accuracy: 0.8337\n",
            "Epoch 12/30\n",
            "296/296 [==============================] - 4s 12ms/step - loss: 0.2993 - accuracy: 0.8950 - val_loss: 0.5091 - val_accuracy: 0.8426\n",
            "Epoch 13/30\n",
            "296/296 [==============================] - 4s 12ms/step - loss: 0.2815 - accuracy: 0.9022 - val_loss: 0.5422 - val_accuracy: 0.8396\n",
            "Epoch 14/30\n",
            "296/296 [==============================] - 4s 13ms/step - loss: 0.2647 - accuracy: 0.9075 - val_loss: 0.5507 - val_accuracy: 0.8472\n",
            "Epoch 15/30\n",
            "296/296 [==============================] - 4s 14ms/step - loss: 0.2522 - accuracy: 0.9118 - val_loss: 0.5645 - val_accuracy: 0.8468\n",
            "Epoch 16/30\n",
            "296/296 [==============================] - 4s 12ms/step - loss: 0.2352 - accuracy: 0.9170 - val_loss: 0.5304 - val_accuracy: 0.8460\n",
            "Epoch 17/30\n",
            "296/296 [==============================] - 4s 12ms/step - loss: 0.2216 - accuracy: 0.9198 - val_loss: 0.5378 - val_accuracy: 0.8493\n",
            "Epoch 18/30\n",
            "296/296 [==============================] - 4s 12ms/step - loss: 0.2127 - accuracy: 0.9239 - val_loss: 0.6012 - val_accuracy: 0.8489\n",
            "Epoch 19/30\n",
            "296/296 [==============================] - 4s 12ms/step - loss: 0.2070 - accuracy: 0.9247 - val_loss: 0.5615 - val_accuracy: 0.8502\n",
            "Epoch 20/30\n",
            "296/296 [==============================] - 3s 12ms/step - loss: 0.1921 - accuracy: 0.9304 - val_loss: 0.5952 - val_accuracy: 0.8532\n",
            "Epoch 21/30\n",
            "296/296 [==============================] - 3s 12ms/step - loss: 0.1829 - accuracy: 0.9346 - val_loss: 0.5884 - val_accuracy: 0.8523\n",
            "Epoch 22/30\n",
            "296/296 [==============================] - 3s 12ms/step - loss: 0.1812 - accuracy: 0.9343 - val_loss: 0.6360 - val_accuracy: 0.8493\n",
            "Epoch 23/30\n",
            "296/296 [==============================] - 3s 12ms/step - loss: 0.1697 - accuracy: 0.9367 - val_loss: 0.6042 - val_accuracy: 0.8498\n",
            "Epoch 24/30\n",
            "296/296 [==============================] - 3s 12ms/step - loss: 0.1606 - accuracy: 0.9404 - val_loss: 0.6939 - val_accuracy: 0.8443\n",
            "Epoch 25/30\n",
            "296/296 [==============================] - 3s 12ms/step - loss: 0.1551 - accuracy: 0.9430 - val_loss: 0.6604 - val_accuracy: 0.8515\n",
            "Epoch 26/30\n",
            "296/296 [==============================] - 4s 12ms/step - loss: 0.1489 - accuracy: 0.9422 - val_loss: 0.6966 - val_accuracy: 0.8430\n",
            "Epoch 27/30\n",
            "296/296 [==============================] - 4s 12ms/step - loss: 0.1413 - accuracy: 0.9464 - val_loss: 0.6849 - val_accuracy: 0.8468\n",
            "Epoch 28/30\n",
            "296/296 [==============================] - 4s 12ms/step - loss: 0.1392 - accuracy: 0.9461 - val_loss: 0.7666 - val_accuracy: 0.8405\n",
            "Epoch 29/30\n",
            "296/296 [==============================] - 4s 12ms/step - loss: 0.1366 - accuracy: 0.9472 - val_loss: 0.7527 - val_accuracy: 0.8472\n",
            "Epoch 30/30\n",
            "296/296 [==============================] - 4s 15ms/step - loss: 0.1283 - accuracy: 0.9500 - val_loss: 0.7817 - val_accuracy: 0.8430\n"
          ]
        }
      ]
    },
    {
      "cell_type": "code",
      "source": [
        "show_plot(train_history2)"
      ],
      "metadata": {
        "colab": {
          "base_uri": "https://localhost:8080/",
          "height": 573
        },
        "id": "CWbJI7GwrKby",
        "outputId": "16063414-44f0-4846-eb82-00de85e19043"
      },
      "execution_count": 62,
      "outputs": [
        {
          "output_type": "display_data",
          "data": {
            "text/plain": [
              "<Figure size 432x288 with 1 Axes>"
            ],
            "image/png": "[encoded data removed]"
          },
          "metadata": {
            "needs_background": "light"
          }
        },
        {
          "output_type": "display_data",
          "data": {
            "text/plain": [
              "<Figure size 432x288 with 1 Axes>"
            ],
            "image/png": "[encoded data removed]"
          },
          "metadata": {
            "needs_background": "light"
          }
        }
      ]
    },
    {
      "cell_type": "code",
      "source": [
        "# Evaluate the model on the test data using `evaluate`\n",
        "print(\"Evaluate on test data\")\n",
        "results = model2.evaluate(x_test, y_test, batch_size=128)\n",
        "print(\"test loss, test acc:\", results)\n",
        "\n",
        "# Generate predictions (probabilities -- the output of the last layer)\n",
        "# on new data using `predict`\n",
        "print(\"Generate predictions for 3 samples\")\n",
        "predictions = model2.predict(x_test[:3])\n",
        "print(\"predictions shape:\", predictions.shape)"
      ],
      "metadata": {
        "colab": {
          "base_uri": "https://localhost:8080/"
        },
        "id": "vkFpel2_184B",
        "outputId": "4a999f14-91f5-4a94-816b-c64cbc8d4e2b"
      },
      "execution_count": null,
      "outputs": [
        {
          "output_type": "stream",
          "name": "stdout",
          "text": [
            "Evaluate on test data\n",
            "40/40 [==============================] - 1s 14ms/step - loss: 0.5934 - accuracy: 0.8420\n",
            "test loss, test acc: [0.5933986306190491, 0.8419597148895264]\n",
            "Generate predictions for 3 samples\n",
            "predictions shape: (3, 9)\n"
          ]
        }
      ]
    },
    {
      "cell_type": "code",
      "source": [
        "model.save(\"/content/drive/MyDrive/2021-2022/NLP/Model/transformers4\")"
      ],
      "metadata": {
        "colab": {
          "base_uri": "https://localhost:8080/"
        },
        "id": "V78zvhmx2HIp",
        "outputId": "9ab15f93-2edb-4801-e695-25c7010519ce"
      },
      "execution_count": null,
      "outputs": [
        {
          "output_type": "stream",
          "name": "stderr",
          "text": [
            "WARNING:absl:Found untraced functions such as embedding_27_layer_call_fn, embedding_27_layer_call_and_return_conditional_losses, embedding_28_layer_call_fn, embedding_28_layer_call_and_return_conditional_losses, multi_head_attention_13_layer_call_fn while saving (showing 5 of 26). These functions will not be directly callable after loading.\n"
          ]
        },
        {
          "output_type": "stream",
          "name": "stdout",
          "text": [
            "INFO:tensorflow:Assets written to: /content/drive/MyDrive/2021-2022/NLP/Model/transformers4/assets\n"
          ]
        },
        {
          "output_type": "stream",
          "name": "stderr",
          "text": [
            "INFO:tensorflow:Assets written to: /content/drive/MyDrive/2021-2022/NLP/Model/transformers4/assets\n"
          ]
        }
      ]
    },
    {
      "cell_type": "code",
      "source": [
        "from keras.initializers import Constant\n",
        "\n",
        "model=keras.Sequential()\n",
        "model.add(keras.layers.Embedding(vocab_size, 64, input_length=max_length))\n",
        "\n",
        "model.add(keras.layers.Bidirectional(keras.layers.LSTM(256, return_sequences=True)))\n",
        "model.add(keras.layers.Dropout(0.2))\n",
        "\n",
        "model.add(keras.layers.Conv1D(64,3,activation='relu'))\n",
        "model.add(keras.layers.Conv1D(64,3,activation='relu'))\n",
        "model.add(keras.layers.MaxPooling1D())\n",
        "\n",
        "model.add(keras.layers.Conv1D(128,3,activation='relu'))\n",
        "model.add(keras.layers.MaxPooling1D())\n",
        "\n",
        "model.add(keras.layers.Conv1D(128,3,activation='relu'))\n",
        "model.add(keras.layers.MaxPooling1D())\n",
        "\n",
        "model.add(keras.layers.Flatten())\n",
        "model.add(keras.layers.Dense(64,activation='relu'))\n",
        "model.add(keras.layers.Dense(9,activation='softmax'))\n",
        "\n",
        "model.summary()\n",
        "model.compile(loss='categorical_crossentropy', optimizer='adam',  metrics=['accuracy'])"
      ],
      "metadata": {
        "id": "U88wofuJ21PL",
        "colab": {
          "base_uri": "https://localhost:8080/"
        },
        "outputId": "a5138311-8211-4e40-9599-ccdc133dd888"
      },
      "execution_count": 67,
      "outputs": [
        {
          "output_type": "stream",
          "name": "stdout",
          "text": [
            "Model: \"sequential_7\"\n",
            "_________________________________________________________________\n",
            " Layer (type)                Output Shape              Param #   \n",
            "=================================================================\n",
            " embedding_9 (Embedding)     (None, 120, 64)           318528    \n",
            "                                                                 \n",
            " bidirectional_1 (Bidirectio  (None, 120, 512)         657408    \n",
            " nal)                                                            \n",
            "                                                                 \n",
            " dropout_17 (Dropout)        (None, 120, 512)          0         \n",
            "                                                                 \n",
            " conv1d_4 (Conv1D)           (None, 118, 64)           98368     \n",
            "                                                                 \n",
            " conv1d_5 (Conv1D)           (None, 116, 64)           12352     \n",
            "                                                                 \n",
            " max_pooling1d_3 (MaxPooling  (None, 58, 64)           0         \n",
            " 1D)                                                             \n",
            "                                                                 \n",
            " conv1d_6 (Conv1D)           (None, 56, 128)           24704     \n",
            "                                                                 \n",
            " max_pooling1d_4 (MaxPooling  (None, 28, 128)          0         \n",
            " 1D)                                                             \n",
            "                                                                 \n",
            " conv1d_7 (Conv1D)           (None, 26, 128)           49280     \n",
            "                                                                 \n",
            " max_pooling1d_5 (MaxPooling  (None, 13, 128)          0         \n",
            " 1D)                                                             \n",
            "                                                                 \n",
            " flatten_1 (Flatten)         (None, 1664)              0         \n",
            "                                                                 \n",
            " dense_22 (Dense)            (None, 64)                106560    \n",
            "                                                                 \n",
            " dense_23 (Dense)            (None, 9)                 585       \n",
            "                                                                 \n",
            "=================================================================\n",
            "Total params: 1,267,785\n",
            "Trainable params: 1,267,785\n",
            "Non-trainable params: 0\n",
            "_________________________________________________________________\n"
          ]
        }
      ]
    },
    {
      "cell_type": "code",
      "source": [
        "model.compile(optimizer=\"adamax\", loss=\"categorical_crossentropy\", metrics=[\"accuracy\"])\n",
        "\n",
        "train_history2 = model.fit(x_train, y_train , validation_split=0.2 , batch_size=32 , epochs=30)"
      ],
      "metadata": {
        "colab": {
          "base_uri": "https://localhost:8080/"
        },
        "id": "SbNx_OAzCxOZ",
        "outputId": "975df245-1985-4097-947d-e01399298620"
      },
      "execution_count": 68,
      "outputs": [
        {
          "output_type": "stream",
          "name": "stdout",
          "text": [
            "Epoch 1/30\n",
            "296/296 [==============================] - 13s 24ms/step - loss: 1.9195 - accuracy: 0.2832 - val_loss: 1.6565 - val_accuracy: 0.3847\n",
            "Epoch 2/30\n",
            "296/296 [==============================] - 6s 21ms/step - loss: 1.4756 - accuracy: 0.4637 - val_loss: 1.4007 - val_accuracy: 0.4625\n",
            "Epoch 3/30\n",
            "296/296 [==============================] - 6s 21ms/step - loss: 1.3234 - accuracy: 0.4915 - val_loss: 1.3251 - val_accuracy: 0.5044\n",
            "Epoch 4/30\n",
            "296/296 [==============================] - 6s 21ms/step - loss: 1.2432 - accuracy: 0.5230 - val_loss: 1.2395 - val_accuracy: 0.5277\n",
            "Epoch 5/30\n",
            "296/296 [==============================] - 6s 21ms/step - loss: 1.0659 - accuracy: 0.6141 - val_loss: 1.0214 - val_accuracy: 0.6488\n",
            "Epoch 6/30\n",
            "296/296 [==============================] - 6s 21ms/step - loss: 0.8161 - accuracy: 0.7262 - val_loss: 0.8619 - val_accuracy: 0.7165\n",
            "Epoch 7/30\n",
            "296/296 [==============================] - 6s 21ms/step - loss: 0.7018 - accuracy: 0.7694 - val_loss: 0.8036 - val_accuracy: 0.7482\n",
            "Epoch 8/30\n",
            "296/296 [==============================] - 6s 21ms/step - loss: 0.6279 - accuracy: 0.7950 - val_loss: 0.7869 - val_accuracy: 0.7592\n",
            "Epoch 9/30\n",
            "296/296 [==============================] - 6s 21ms/step - loss: 0.5769 - accuracy: 0.8160 - val_loss: 0.7235 - val_accuracy: 0.7749\n",
            "Epoch 10/30\n",
            "296/296 [==============================] - 7s 23ms/step - loss: 0.5124 - accuracy: 0.8332 - val_loss: 0.7159 - val_accuracy: 0.7893\n",
            "Epoch 11/30\n",
            "296/296 [==============================] - 7s 24ms/step - loss: 0.4812 - accuracy: 0.8465 - val_loss: 0.6513 - val_accuracy: 0.7952\n",
            "Epoch 12/30\n",
            "296/296 [==============================] - 7s 22ms/step - loss: 0.4233 - accuracy: 0.8655 - val_loss: 0.6269 - val_accuracy: 0.8180\n",
            "Epoch 13/30\n",
            "296/296 [==============================] - 6s 21ms/step - loss: 0.4009 - accuracy: 0.8728 - val_loss: 0.6322 - val_accuracy: 0.8256\n",
            "Epoch 14/30\n",
            "296/296 [==============================] - 6s 21ms/step - loss: 0.3767 - accuracy: 0.8808 - val_loss: 0.5862 - val_accuracy: 0.8316\n",
            "Epoch 15/30\n",
            "296/296 [==============================] - 6s 21ms/step - loss: 0.3475 - accuracy: 0.8900 - val_loss: 0.6394 - val_accuracy: 0.8244\n",
            "Epoch 16/30\n",
            "296/296 [==============================] - 6s 22ms/step - loss: 0.3261 - accuracy: 0.8951 - val_loss: 0.6015 - val_accuracy: 0.8362\n",
            "Epoch 17/30\n",
            "296/296 [==============================] - 6s 21ms/step - loss: 0.3033 - accuracy: 0.9036 - val_loss: 0.6314 - val_accuracy: 0.8295\n",
            "Epoch 18/30\n",
            "296/296 [==============================] - 6s 21ms/step - loss: 0.2981 - accuracy: 0.9060 - val_loss: 0.6298 - val_accuracy: 0.8261\n",
            "Epoch 19/30\n",
            "296/296 [==============================] - 6s 21ms/step - loss: 0.2773 - accuracy: 0.9106 - val_loss: 0.6155 - val_accuracy: 0.8358\n",
            "Epoch 20/30\n",
            "296/296 [==============================] - 6s 22ms/step - loss: 0.2636 - accuracy: 0.9151 - val_loss: 0.6108 - val_accuracy: 0.8362\n",
            "Epoch 21/30\n",
            "296/296 [==============================] - 6s 22ms/step - loss: 0.2500 - accuracy: 0.9197 - val_loss: 0.6900 - val_accuracy: 0.8341\n",
            "Epoch 22/30\n",
            "296/296 [==============================] - 6s 22ms/step - loss: 0.2427 - accuracy: 0.9203 - val_loss: 0.5925 - val_accuracy: 0.8350\n",
            "Epoch 23/30\n",
            "296/296 [==============================] - 6s 21ms/step - loss: 0.2270 - accuracy: 0.9275 - val_loss: 0.5953 - val_accuracy: 0.8350\n",
            "Epoch 24/30\n",
            "296/296 [==============================] - 6s 21ms/step - loss: 0.2195 - accuracy: 0.9283 - val_loss: 0.6644 - val_accuracy: 0.8320\n",
            "Epoch 25/30\n",
            "296/296 [==============================] - 6s 22ms/step - loss: 0.2058 - accuracy: 0.9322 - val_loss: 0.6596 - val_accuracy: 0.8210\n",
            "Epoch 26/30\n",
            "296/296 [==============================] - 6s 22ms/step - loss: 0.2014 - accuracy: 0.9337 - val_loss: 0.6495 - val_accuracy: 0.8426\n",
            "Epoch 27/30\n",
            "296/296 [==============================] - 6s 21ms/step - loss: 0.1924 - accuracy: 0.9342 - val_loss: 0.6197 - val_accuracy: 0.8438\n",
            "Epoch 28/30\n",
            "296/296 [==============================] - 6s 22ms/step - loss: 0.1919 - accuracy: 0.9361 - val_loss: 0.6324 - val_accuracy: 0.8417\n",
            "Epoch 29/30\n",
            "296/296 [==============================] - 6s 21ms/step - loss: 0.1829 - accuracy: 0.9400 - val_loss: 0.6811 - val_accuracy: 0.8345\n",
            "Epoch 30/30\n",
            "296/296 [==============================] - 6s 21ms/step - loss: 0.1755 - accuracy: 0.9402 - val_loss: 0.6517 - val_accuracy: 0.8350\n"
          ]
        }
      ]
    }
  ],
  "metadata": {
    "accelerator": "GPU",
    "colab": {
      "name": "Transformers_text_classification.ipynb",
      "provenance": [],
      "collapsed_sections": []
    },
    "kernelspec": {
      "display_name": "Python 3",
      "name": "python3"
    },
    "language_info": {
      "name": "python"
    }
  },
  "nbformat": 4,
  "nbformat_minor": 0
}